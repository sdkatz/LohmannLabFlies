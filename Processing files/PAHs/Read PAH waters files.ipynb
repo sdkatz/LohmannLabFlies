{
 "cells": [
  {
   "cell_type": "code",
   "execution_count": 1,
   "id": "a1279ef2-23e4-4968-a966-ca388a7a2bf1",
   "metadata": {},
   "outputs": [],
   "source": [
    "import pandas as pd\n",
    "import matplotlib.pyplot as plt\n",
    "import os"
   ]
  },
  {
   "cell_type": "markdown",
   "id": "d0b10f96-ed4a-40a7-b986-d0eb17aa6782",
   "metadata": {},
   "source": [
    "# Loading in data from text file and export options"
   ]
  },
  {
   "cell_type": "markdown",
   "id": "0531d779-dc8e-4979-b6d6-ee554bb30df7",
   "metadata": {},
   "source": [
    "This should be the only part of the file that you need to change\n",
    "1) The path to the data file\n",
    "2) The number of samples total in the file \n",
    "3) the export name and path for the new datafile\n",
    "4) If  you want to export a bar plot for each compound"
   ]
  },
  {
   "cell_type": "code",
   "execution_count": 5,
   "id": "84117fa6-f12a-4685-8b49-3186acba1a4c",
   "metadata": {},
   "outputs": [],
   "source": [
    "file_path = 'Example files/20240524 PAH EN651 GFF PUF.txt'\n",
    "n_smp = 95\n",
    "output_path = 'EN651 PAH waters export.xlsx'\n",
    "export_figures = True"
   ]
  },
  {
   "cell_type": "markdown",
   "id": "7f4e83ac-a2cf-4138-8599-9fb4fab8d646",
   "metadata": {},
   "source": [
    "Creating fuctions to extract the compound names and then removing the \"compound: \" bit"
   ]
  },
  {
   "cell_type": "code",
   "execution_count": 6,
   "id": "01c37678-9456-4fbc-98e1-b60ca099b71b",
   "metadata": {},
   "outputs": [],
   "source": [
    "def read_specific_lines(file_path):\n",
    "    result = []\n",
    "    with open(file_path, 'r') as file:\n",
    "        for i, line in enumerate(file, start=1):\n",
    "            if (i - 5) % (n_smp + 4) == 0:\n",
    "                result.append(line.strip())\n",
    "    return result\n",
    "\n",
    "def isolate_compound_name(compound_list):\n",
    "    result = []\n",
    "    for compound in compound_list:\n",
    "        # Find the first space and take the substring from that point onward\n",
    "        result.append(compound.split(' ', 2)[2].strip())\n",
    "    return result"
   ]
  },
  {
   "cell_type": "code",
   "execution_count": 7,
   "id": "4f14e508-a84d-4059-bc5f-15b8610695a5",
   "metadata": {},
   "outputs": [],
   "source": [
    "compounds = read_specific_lines(file_path)\n",
    "compounds = isolate_compound_name(compounds)"
   ]
  },
  {
   "cell_type": "markdown",
   "id": "213f06de-1929-45b8-b7b3-2386a7d8174b",
   "metadata": {},
   "source": [
    "Now there is a for loop that extract all the differnt tables from the text time and adds them together"
   ]
  },
  {
   "cell_type": "code",
   "execution_count": 10,
   "id": "b7eee835-f927-469d-8248-ed777f7474e3",
   "metadata": {
    "scrolled": true
   },
   "outputs": [],
   "source": [
    "data = pd.DataFrame()\n",
    "\n",
    "lines = 6  # Start reading after the first 6 lines for the first table\n",
    "for i in range(len(compounds)):\n",
    "    if i == 0:\n",
    "        data = pd.read_table(file_path, skiprows=lines, nrows=n_smp)\n",
    "        data['Compound'] = compounds[i]\n",
    "        lines += n_smp + 3  # +3 for the 3 blank lines\n",
    "    else:\n",
    "        data_temp = pd.read_table(file_path, skiprows=lines, nrows=n_smp)\n",
    "        data_temp['Compound'] = compounds[i]\n",
    "        data = pd.concat([data, data_temp], ignore_index=True, sort=False).reset_index(drop=True)\n",
    "        lines += n_smp + 4  # +4 because we skip 3 blank lines and one header line\n",
    "\n",
    "# Drop unwanted columns if they exist in the DataFrame\n",
    "if 'Unnamed: 0' in data.columns or '#' in data.columns:\n",
    "    data.drop(columns=['Unnamed: 0', '#'], inplace=True)"
   ]
  },
  {
   "cell_type": "markdown",
   "id": "5bf8cd91-725b-4481-81e6-9d313d5d99cc",
   "metadata": {},
   "source": [
    "Finally isolate the injection standard, internal standards, and natives"
   ]
  },
  {
   "cell_type": "code",
   "execution_count": 11,
   "id": "536bd494-63cf-4cfe-b174-2be8a2d27739",
   "metadata": {},
   "outputs": [],
   "source": [
    "inj_std = data.loc[data[\"Compound\"]==\"RS p-Terphenyl\"]\n",
    "int_std = data.loc[data[\"Compound\"].isin(['IS d8-Naphthalene','IS d10-Acenaphthene','IS d10-Phenanthrene','IS d12-Chrysene','IS d12-Perylene'])]\n",
    "natives = data.loc[~data[\"Compound\"].isin([\"RS p-Terphenyl\",'IS d8-Naphthalene','IS d10-Acenaphthene','IS d10-Phenanthrene','IS d12-Chrysene','IS d12-Perylene'])]"
   ]
  },
  {
   "cell_type": "markdown",
   "id": "22eb7f88-9dc0-4f32-89fc-83a6706cdf64",
   "metadata": {},
   "source": [
    "# Saving to excel"
   ]
  },
  {
   "cell_type": "code",
   "execution_count": 20,
   "id": "9d9ee919-f55e-44ad-9eb4-e840a80f137a",
   "metadata": {},
   "outputs": [],
   "source": [
    "position = output_path.find('waters')\n",
    "output_path_with_natives = output_path[:position] + 'natives ' + output_path[position:]\n",
    "output_path_with_IS = output_path[:position] + 'Interal Standards' + output_path[position:]"
   ]
  },
  {
   "cell_type": "code",
   "execution_count": 21,
   "id": "55827118-9542-44c3-b474-be69c71346c1",
   "metadata": {},
   "outputs": [],
   "source": [
    "data.to_excel(output_path,index=False)\n",
    "natives.to_excel(output_path_with_natives, index=False)\n",
    "int_std.to_excel(output_path_with_IS, index=False)"
   ]
  },
  {
   "cell_type": "markdown",
   "id": "fbc12a24-d9f3-4fd9-b61e-7bd378f9a95a",
   "metadata": {},
   "source": [
    "# Save Figures"
   ]
  },
  {
   "cell_type": "markdown",
   "id": "b7cbb352-752e-42c0-b4bd-c08e50a2fb4f",
   "metadata": {},
   "source": [
    "Here we save a plot of each of the compounds to look a trends across the sample set"
   ]
  },
  {
   "cell_type": "code",
   "execution_count": 21,
   "id": "9122e544-8529-4286-9fb0-5f9ae1746d60",
   "metadata": {},
   "outputs": [],
   "source": [
    "def create_graphs(input_file):\n",
    "    # Read the Excel file\n",
    "    df = input_file\n",
    "\n",
    "    # Create a folder to store the graphs if it doesn't exist\n",
    "    output_folder = \"waters_export_compounds\"\n",
    "    if not os.path.exists(output_folder):\n",
    "        os.makedirs(output_folder)\n",
    "\n",
    "    # Group by Compound\n",
    "    grouped = df.groupby('Compound')\n",
    "\n",
    "    # Create and save graphs for each compound\n",
    "    for compound, group in grouped:\n",
    "        compound = compound.replace(\"/\", \"_\")\n",
    "        plt.figure(figsize=(15, 8))\n",
    "        for id_ in group['ID'].unique():\n",
    "            data = group[group['ID'] == id_]\n",
    "            plt.bar(data['ID'], data['pg'], label=f\"ID {id_}\")\n",
    "        plt.title(f\"{compound}\")\n",
    "        plt.xlabel(\"ID\")\n",
    "        plt.ylabel(\"pg\")\n",
    "        plt.grid(True)\n",
    "        plt.xticks(range(len(group['ID'].unique())), group['ID'].unique(),rotation=45,fontsize=8, ha='right')\n",
    "        plt.tick_params(axis='x', which='major', pad=.5 )\n",
    "        plt.gca().margins(x=0.05)\n",
    "        plt.tight_layout()\n",
    "        graph_filename = f\"{compound}.png\"\n",
    "        plt.savefig(os.path.join(output_folder, graph_filename))\n",
    "        plt.close()"
   ]
  },
  {
   "cell_type": "code",
   "execution_count": 4,
   "id": "085e0468-0f14-425d-9637-d17cbf4ff6b3",
   "metadata": {},
   "outputs": [
    {
     "ename": "NameError",
     "evalue": "name 'create_graphs' is not defined",
     "output_type": "error",
     "traceback": [
      "\u001b[0;31m---------------------------------------------------------------------------\u001b[0m",
      "\u001b[0;31mNameError\u001b[0m                                 Traceback (most recent call last)",
      "Cell \u001b[0;32mIn[4], line 3\u001b[0m\n\u001b[1;32m      1\u001b[0m \u001b[38;5;28;01mif\u001b[39;00m export_figures \u001b[38;5;241m==\u001b[39m \u001b[38;5;28;01mTrue\u001b[39;00m:\n\u001b[1;32m      2\u001b[0m     \u001b[38;5;28;01mif\u001b[39;00m \u001b[38;5;18m__name__\u001b[39m \u001b[38;5;241m==\u001b[39m \u001b[38;5;124m\"\u001b[39m\u001b[38;5;124m__main__\u001b[39m\u001b[38;5;124m\"\u001b[39m:\n\u001b[0;32m----> 3\u001b[0m         \u001b[43mcreate_graphs\u001b[49m(data)\n",
      "\u001b[0;31mNameError\u001b[0m: name 'create_graphs' is not defined"
     ]
    }
   ],
   "source": [
    "if export_figures == True:\n",
    "    if __name__ == \"__main__\":\n",
    "        create_graphs(data)"
   ]
  },
  {
   "cell_type": "code",
   "execution_count": null,
   "id": "be9493d4-ce80-4942-ad0c-d3c8dc50ba95",
   "metadata": {},
   "outputs": [],
   "source": []
  }
 ],
 "metadata": {
  "kernelspec": {
   "display_name": "Python 3 (ipykernel)",
   "language": "python",
   "name": "python3"
  },
  "language_info": {
   "codemirror_mode": {
    "name": "ipython",
    "version": 3
   },
   "file_extension": ".py",
   "mimetype": "text/x-python",
   "name": "python",
   "nbconvert_exporter": "python",
   "pygments_lexer": "ipython3",
   "version": "3.9.18"
  }
 },
 "nbformat": 4,
 "nbformat_minor": 5
}
