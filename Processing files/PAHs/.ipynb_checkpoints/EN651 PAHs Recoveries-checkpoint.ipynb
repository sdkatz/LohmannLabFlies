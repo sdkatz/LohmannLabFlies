{
 "cells": [
  {
   "cell_type": "code",
   "execution_count": 1,
   "id": "e62ff039-7d01-42cf-a061-591396dc9e9e",
   "metadata": {},
   "outputs": [],
   "source": [
    "import pandas as pd\n",
    "import numpy as np\n",
    "from openpyxl import Workbook\n",
    "from openpyxl.formatting.rule import ColorScaleRule\n",
    "from openpyxl.utils.dataframe import dataframe_to_rows"
   ]
  },
  {
   "cell_type": "code",
   "execution_count": 2,
   "id": "9c38d405-2251-4bb8-a038-57e51fdb28d8",
   "metadata": {},
   "outputs": [],
   "source": [
    "data = pd.read_excel('Example files/EN651 PAH waters export.xlsx')\n",
    "recovorys = pd.read_excel('Example files/PAH EN651 Recovery Check.xlsx')"
   ]
  },
  {
   "cell_type": "code",
   "execution_count": 17,
   "id": "6a7b6b75-0672-49ad-b165-41805380da3b",
   "metadata": {},
   "outputs": [],
   "source": [
    "data_IS = data[data['Compound'].str.startswith('IS')].copy()\n",
    "data_IS['rec_norm'] = data_IS['Area']/data_IS['IS Area']"
   ]
  },
  {
   "cell_type": "code",
   "execution_count": 18,
   "id": "34c8e3f8-ec46-40c8-8901-fe2f4116ad6a",
   "metadata": {},
   "outputs": [],
   "source": [
    "rec_mean = recovorys.dropna(subset=['Area']).groupby('Compound')[['Area','IS Area']].mean().reset_index()\n",
    "rec_mean['inj_rec_norm'] = rec_mean['Area']/rec_mean['IS Area']"
   ]
  },
  {
   "cell_type": "code",
   "execution_count": 19,
   "id": "56e9d000-daa6-4c4a-a1ef-e94dc354eef1",
   "metadata": {},
   "outputs": [],
   "source": [
    "data_IS_all = pd.merge(data_IS,rec_mean,on='Compound')\n",
    "data_IS_all['Recovory'] = data_IS_all['rec_norm']/data_IS_all['inj_rec_norm']"
   ]
  },
  {
   "cell_type": "code",
   "execution_count": 20,
   "id": "93a0308d-6a8c-4ae0-bac4-4ab2646c97f0",
   "metadata": {},
   "outputs": [],
   "source": [
    "Recovory_pivot = data_IS_all.pivot(index=['Name','Sample Text'], columns='Compound', values='Recovory').reset_index()"
   ]
  },
  {
   "cell_type": "code",
   "execution_count": 22,
   "id": "0fd10eb0-fd20-4e0f-8db6-2d46c6c25785",
   "metadata": {},
   "outputs": [],
   "source": [
    "wb = load_workbook('Recoveries.xlsx')\n",
    "ws = wb.active"
   ]
  },
  {
   "cell_type": "code",
   "execution_count": 21,
   "id": "febbb0a7-d29f-4751-8a78-99110f179c59",
   "metadata": {},
   "outputs": [],
   "source": [
    "Recovory_pivot.to_excel('Recoveries.xlsx', index=False)"
   ]
  },
  {
   "cell_type": "markdown",
   "id": "4d6dc2a6-0cd8-44fd-be0a-f23d0daa7786",
   "metadata": {},
   "source": [
    "Create a new Excel workbook and add a worksheet"
   ]
  },
  {
   "cell_type": "code",
   "execution_count": 21,
   "id": "bde571d1-264e-46f0-80c2-2fc98a8f6739",
   "metadata": {},
   "outputs": [],
   "source": [
    "Recovory_pivot.to_excel('Recoveries.xlsx', index=False)"
   ]
  },
  {
   "cell_type": "code",
   "execution_count": 30,
   "id": "aa43bb0f-f187-412e-b00d-5ed37ec94e68",
   "metadata": {},
   "outputs": [],
   "source": [
    "wb = Workbook()\n",
    "ws = wb.active\n",
    "ws.title = \"Recoveries\""
   ]
  },
  {
   "cell_type": "markdown",
   "id": "6cf10218-981b-42a9-a3d4-e167cb1b4f59",
   "metadata": {},
   "source": [
    "Add the DataFrame to the worksheet"
   ]
  },
  {
   "cell_type": "code",
   "execution_count": 31,
   "id": "9261e709-93cf-4db9-8c1d-7cfd9f6265d6",
   "metadata": {},
   "outputs": [],
   "source": [
    "for r_idx, row in enumerate(dataframe_to_rows(Recovory_pivot, index=False, header=True), 1):\n",
    "    for c_idx, value in enumerate(row, 1):\n",
    "        ws.cell(row=r_idx, column=c_idx, value=value)"
   ]
  },
  {
   "cell_type": "markdown",
   "id": "a8b5b66b-7d4a-4c54-b494-1e88e906ab6a",
   "metadata": {},
   "source": [
    "Get the dimensions of the DataFrame (excluding header)"
   ]
  },
  {
   "cell_type": "code",
   "execution_count": 32,
   "id": "efccdcbb-f61a-4db8-9d53-e3a54e5c9433",
   "metadata": {},
   "outputs": [],
   "source": [
    "max_row = Recovory_pivot.shape[0] + 1  # Adding 1 because Excel rows start at 1 and the first row is a header\n",
    "max_col = Recovory_pivot.shape[1]  # The number of columns"
   ]
  },
  {
   "cell_type": "markdown",
   "id": "d87fb352-9784-4ba7-bb61-3f0c3b79619f",
   "metadata": {},
   "source": [
    "Loop through each column (except the first one) and apply the conditional formatting"
   ]
  },
  {
   "cell_type": "code",
   "execution_count": 33,
   "id": "3062e839-5f85-4c30-ad65-f1c2534972c1",
   "metadata": {},
   "outputs": [],
   "source": [
    "for col in range(2, max_col + 1):  # Starting from the second column (index 2)\n",
    "    col_letter = ws.cell(row=1, column=col).column_letter\n",
    "    cell_range = f'{col_letter}2:{col_letter}{max_row}'  # Exclude the first row (header)\n",
    "\n",
    "    # Apply a color scale for the values between 0 and 1\n",
    "    color_scale_rule = ColorScaleRule(\n",
    "        start_type='num', start_value=0, start_color='FF0000',  # Red color for the minimum value (0)\n",
    "        mid_type='num', mid_value=0.5, mid_color='FFFF00',  # Yellow for the value 0.5\n",
    "        end_type='num', end_value=1, end_color='00FF00'  # Green color for the maximum value (1)\n",
    "    )\n",
    "\n",
    "    # Apply the color scale rule to the current column\n",
    "    ws.conditional_formatting.add(cell_range, color_scale_rule)"
   ]
  },
  {
   "cell_type": "markdown",
   "id": "80be1446-6ae5-4ac4-93c0-6a8e23472fbd",
   "metadata": {},
   "source": [
    "Calculate the average and standard deviation for each column excluding the first 2 rows as they are labels"
   ]
  },
  {
   "cell_type": "code",
   "execution_count": 39,
   "id": "c69e13c9-304b-4f8d-b747-67a1d1044fa6",
   "metadata": {},
   "outputs": [],
   "source": [
    "average_row = Recovory_pivot.iloc[:, 2:].mean().round(2)\n",
    "std_dev_row = Recovory_pivot.iloc[:, 2:].std().round(2)"
   ]
  },
  {
   "cell_type": "markdown",
   "id": "2f04423f-2a0d-4f10-a6e0-d947c6a1b3f9",
   "metadata": {},
   "source": [
    "Append the average and standard deviation row at the bottom"
   ]
  },
  {
   "cell_type": "code",
   "execution_count": 40,
   "id": "4f717350-a155-41d2-96e7-785576a6712c",
   "metadata": {},
   "outputs": [],
   "source": [
    "avg_row_idx = max_row + 2  # The row index for the average row\n",
    "ws.cell(row=avg_row_idx, column=1, value=\"Average\")\n",
    "for c_idx, value in enumerate(average_row, 3):  # Start from the third column\n",
    "    ws.cell(row=avg_row_idx, column=c_idx, value=value)\n",
    "\n",
    "std_row_idx = max_row + 3  # The row index for the standard deviation row\n",
    "ws.cell(row=std_row_idx, column=1, value=\"Std Dev\")\n",
    "for c_idx, value in enumerate(std_dev_row, 3):  # Start from the third column\n",
    "    ws.cell(row=std_row_idx, column=c_idx, value=value)"
   ]
  },
  {
   "cell_type": "code",
   "execution_count": 41,
   "id": "63be74d1-1034-4515-82c8-cd3773fe1a2e",
   "metadata": {},
   "outputs": [],
   "source": [
    "wb.save('Recoveries_Formatted.xlsx')"
   ]
  }
 ],
 "metadata": {
  "kernelspec": {
   "display_name": "Python 3 (ipykernel)",
   "language": "python",
   "name": "python3"
  },
  "language_info": {
   "codemirror_mode": {
    "name": "ipython",
    "version": 3
   },
   "file_extension": ".py",
   "mimetype": "text/x-python",
   "name": "python",
   "nbconvert_exporter": "python",
   "pygments_lexer": "ipython3",
   "version": "3.9.18"
  }
 },
 "nbformat": 4,
 "nbformat_minor": 5
}
