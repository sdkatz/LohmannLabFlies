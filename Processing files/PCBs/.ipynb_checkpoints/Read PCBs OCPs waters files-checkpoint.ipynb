{
 "cells": [
  {
   "cell_type": "code",
   "execution_count": 1,
   "id": "56443d43-1268-4d14-bc11-0fde73770018",
   "metadata": {},
   "outputs": [],
   "source": [
    "import pandas as pd\n",
    "import matplotlib.pyplot as plt\n",
    "import os"
   ]
  },
  {
   "cell_type": "markdown",
   "id": "38cccb29-e4b7-42d0-9866-76bced57063e",
   "metadata": {},
   "source": [
    "# Loading in data from text file and export options"
   ]
  },
  {
   "cell_type": "markdown",
   "id": "e3bae887-a025-465b-9e37-40444002d397",
   "metadata": {},
   "source": [
    "This should be the only part of the file that you need to change\n",
    "1) The path to the data file\n",
    "2) The number of samples total in the file \n",
    "3) the export name and path for the new datafile\n",
    "4) If  you want to export a bar plot for each compound"
   ]
  },
  {
   "cell_type": "code",
   "execution_count": 2,
   "id": "caa03fc9-ba80-4757-8254-99677d80d076",
   "metadata": {},
   "outputs": [],
   "source": [
    "file_path = 'Example files/20240606 PCBOCP EN651 GFF PUF.txt'\n",
    "n_smp = 100\n",
    "output_path = 'EN651 PCBOCP waters export.xlsx'\n",
    "export_figures = True"
   ]
  },
  {
   "cell_type": "markdown",
   "id": "ff191bdf-cb18-4837-8277-b0ffdf45b90c",
   "metadata": {},
   "source": [
    "Creating fuctions to extract the compound names and then removing the \"compound: \" bit"
   ]
  },
  {
   "cell_type": "code",
   "execution_count": 3,
   "id": "770eff08-a40a-48d2-b0e6-a4f34a07cbc8",
   "metadata": {},
   "outputs": [],
   "source": [
    "def read_specific_lines(file_path):\n",
    "    result = []\n",
    "    with open(file_path, 'r') as file:\n",
    "        for i, line in enumerate(file, start=1):\n",
    "            if (i - 5) % (n_smp + 4) == 0:\n",
    "                result.append(line.strip())\n",
    "    return result\n",
    "\n",
    "def isolate_compound_name(compound_list):\n",
    "    result = []\n",
    "    for compound in compound_list:\n",
    "        # Find the first space and take the substring from that point onward\n",
    "        result.append(compound.split(' ', 2)[2].strip())\n",
    "    return result"
   ]
  },
  {
   "cell_type": "code",
   "execution_count": 4,
   "id": "a727e0ec-f309-48fc-ab2f-854c2774cbc8",
   "metadata": {},
   "outputs": [],
   "source": [
    "compounds = read_specific_lines(file_path)\n",
    "compounds = isolate_compound_name(compounds)"
   ]
  },
  {
   "cell_type": "markdown",
   "id": "6b092c51-ada8-426d-bd4f-83ededbfa2b7",
   "metadata": {},
   "source": [
    "Now there is a for loop that extract all the differnt tables from the text time and adds them together"
   ]
  },
  {
   "cell_type": "code",
   "execution_count": 12,
   "id": "40e2a737-826f-468a-8bb2-b850691dad1c",
   "metadata": {},
   "outputs": [],
   "source": [
    "data = pd.DataFrame()\n",
    "\n",
    "lines = 6  # Start reading after the first 6 lines for the first table\n",
    "for i in range(len(compounds)):\n",
    "    if i == 0:\n",
    "        data = pd.read_table(file_path, skiprows=lines, nrows=n_smp)\n",
    "        data['Compound'] = compounds[i]\n",
    "        lines += n_smp + 3  # +3 for the 3 blank lines\n",
    "    else:\n",
    "        data_temp = pd.read_table(file_path, skiprows=lines, nrows=n_smp)\n",
    "        data_temp['Compound'] = compounds[i]\n",
    "        data = pd.concat([data, data_temp], ignore_index=True, sort=False).reset_index(drop=True)\n",
    "        lines += n_smp + 4  # +4 because we skip 3 blank lines and one header line\n",
    "\n",
    "\n",
    "# Drop unwanted columns if they exist in the DataFrame\n",
    "if 'Unnamed: 0' in data.columns or '#' in data.columns:\n",
    "    data.drop(columns=['Unnamed: 0', '#'], inplace=True)"
   ]
  },
  {
   "cell_type": "markdown",
   "id": "c0b1f233-f578-430e-abb8-80131cd60b30",
   "metadata": {},
   "source": [
    "Now I fix the mistake where I didn't change the name of the sample for PAHs to PCBs/OCPs"
   ]
  },
  {
   "cell_type": "code",
   "execution_count": 13,
   "id": "9ac052a1-bfb6-4fda-a1c1-70172b1c39ac",
   "metadata": {},
   "outputs": [],
   "source": [
    "data['Sample Text'] = data['Sample Text'].str.replace('PAHs','PCBs/OCPs')"
   ]
  },
  {
   "cell_type": "markdown",
   "id": "bad8d4ce-e53b-48d6-8257-0d1fcb0e7830",
   "metadata": {},
   "source": [
    "Next I create different datafiles for each of the sets of compounds to export to excel "
   ]
  },
  {
   "cell_type": "code",
   "execution_count": 14,
   "id": "9888ba17-29e8-4b8a-bbf3-5e1009333369",
   "metadata": {},
   "outputs": [],
   "source": [
    "inj_std = data.loc[data['Compound']=='RS TriBB (2,4,6-Tribromobiphenyl)']\n",
    "IS_list = ['13C12 PCB-8','13C12 PCB-28','13C12 PCB-52','13C12 PCB-81','13C12 PCB-118','13C12 PCB-138','13C12 PCB-180',\n",
    "           '13C12 PCB-209', '13C6-HCBz','13C12-DDT']\n",
    "int_std = data.loc[data['Compound'].isin(IS_list)]\n",
    "natives = data.loc[~data['Compound'].isin(IS_list)]"
   ]
  },
  {
   "cell_type": "markdown",
   "id": "2ea90e31-8d1b-43a8-b7b4-cdc45f699d76",
   "metadata": {},
   "source": [
    "# Saving to excel"
   ]
  },
  {
   "cell_type": "code",
   "execution_count": null,
   "id": "bef263ae-06b3-4f1a-9715-aae07d65f0d4",
   "metadata": {},
   "outputs": [],
   "source": [
    "position = output_path.find('waters')\n",
    "output_path_with_natives = output_path[:position] + 'natives ' + output_path[position:]"
   ]
  },
  {
   "cell_type": "code",
   "execution_count": 1,
   "id": "36cc2c32-729d-46f4-9c44-ce292fa69fcf",
   "metadata": {},
   "outputs": [
    {
     "ename": "NameError",
     "evalue": "name 'data' is not defined",
     "output_type": "error",
     "traceback": [
      "\u001b[0;31m---------------------------------------------------------------------------\u001b[0m",
      "\u001b[0;31mNameError\u001b[0m                                 Traceback (most recent call last)",
      "Cell \u001b[0;32mIn[1], line 1\u001b[0m\n\u001b[0;32m----> 1\u001b[0m \u001b[43mdata\u001b[49m\u001b[38;5;241m.\u001b[39mto_excel(output_path,index\u001b[38;5;241m=\u001b[39m\u001b[38;5;28;01mFalse\u001b[39;00m)\n\u001b[1;32m      2\u001b[0m natives\u001b[38;5;241m.\u001b[39mto_excel(output_path_with_natives,index\u001b[38;5;241m=\u001b[39m\u001b[38;5;28;01mFalse\u001b[39;00m)\n",
      "\u001b[0;31mNameError\u001b[0m: name 'data' is not defined"
     ]
    }
   ],
   "source": [
    "data.to_excel(output_path,index=False)\n",
    "natives.to_excel(output_path_with_natives,index=False)"
   ]
  },
  {
   "cell_type": "markdown",
   "id": "bb0e5c60-56d1-47ef-b72e-0541235d1dd0",
   "metadata": {},
   "source": [
    "# Save Figures"
   ]
  },
  {
   "cell_type": "markdown",
   "id": "b40ca829-5de5-4e1f-95ce-ce460cc8c0b3",
   "metadata": {},
   "source": [
    "Here we save a plot of each of the compounds to look a trends across the sample set"
   ]
  },
  {
   "cell_type": "code",
   "execution_count": 16,
   "id": "1324c070-a1f9-4e55-90ca-6f5a1c61e2a2",
   "metadata": {},
   "outputs": [],
   "source": [
    "def create_graphs(input_file):\n",
    "    # Read the Excel file\n",
    "    df = input_file\n",
    "\n",
    "    # Create a folder to store the graphs if it doesn't exist\n",
    "    output_folder = 'waters_export_compounds'\n",
    "    if not os.path.exists(output_folder):\n",
    "        os.makedirs(output_folder)\n",
    "\n",
    "    # Group by Compound\n",
    "    grouped = df.groupby('Compound')\n",
    "\n",
    "    # Create and save graphs for each compound\n",
    "    for compound, group in grouped:\n",
    "        compound = compound.replace(\"/\", \"_\")\n",
    "        plt.figure(figsize=(15, 8))\n",
    "        for id_ in group['ID'].unique():\n",
    "            data = group[group['ID'] == id_]\n",
    "            plt.bar(data['ID'], data['pg'], label=f\"ID {id_}\")\n",
    "        plt.title(f'{compound}')\n",
    "        plt.xlabel('ID')\n",
    "        plt.ylabel('pg')\n",
    "        plt.grid(True)\n",
    "        plt.xticks(range(len(group['ID'].unique())), group['ID'].unique(),rotation=45,fontsize=8, ha='right')\n",
    "        plt.tick_params(axis='x', which='major', pad=.5 )\n",
    "        plt.gca().margins(x=0.05)\n",
    "        plt.tight_layout()\n",
    "        graph_filename = f\"{compound}.png\"\n",
    "        plt.savefig(os.path.join(output_folder, graph_filename))\n",
    "        plt.close()"
   ]
  },
  {
   "cell_type": "code",
   "execution_count": null,
   "id": "ce19e08b-e283-422e-b42c-cf40acd3d7fe",
   "metadata": {},
   "outputs": [],
   "source": [
    "if export_figures == True\n",
    "    if __name__ == \"__main__\":\n",
    "        create_graphs(data)"
   ]
  }
 ],
 "metadata": {
  "kernelspec": {
   "display_name": "Python 3 (ipykernel)",
   "language": "python",
   "name": "python3"
  },
  "language_info": {
   "codemirror_mode": {
    "name": "ipython",
    "version": 3
   },
   "file_extension": ".py",
   "mimetype": "text/x-python",
   "name": "python",
   "nbconvert_exporter": "python",
   "pygments_lexer": "ipython3",
   "version": "3.9.18"
  }
 },
 "nbformat": 4,
 "nbformat_minor": 5
}
